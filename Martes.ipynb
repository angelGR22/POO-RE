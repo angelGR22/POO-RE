{
  "nbformat": 4,
  "nbformat_minor": 0,
  "metadata": {
    "colab": {
      "provenance": [],
      "authorship_tag": "ABX9TyPsxDYRPBEQq1mHtmx8ka9r",
      "include_colab_link": true
    },
    "kernelspec": {
      "name": "python3",
      "display_name": "Python 3"
    },
    "language_info": {
      "name": "python"
    }
  },
  "cells": [
    {
      "cell_type": "markdown",
      "metadata": {
        "id": "view-in-github",
        "colab_type": "text"
      },
      "source": [
        "<a href=\"https://colab.research.google.com/github/angelGR22/POO-RE/blob/main/Martes.ipynb\" target=\"_parent\"><img src=\"https://colab.research.google.com/assets/colab-badge.svg\" alt=\"Open In Colab\"/></a>"
      ]
    },
    {
      "cell_type": "code",
      "execution_count": 3,
      "metadata": {
        "id": "_TtWRTqV8ppa"
      },
      "outputs": [],
      "source": [
        "alumno = {'numero_cuenta' : 1232322 , 'carrera' : 'ICO' ,\n",
        "            'direccion' : {'calle' : 'rancho seco', 'numero' : 23},\n",
        "            'telefonos' : ['43543563465', '3456464365']\n",
        "          }"
      ]
    },
    {
      "cell_type": "code",
      "source": [
        "print(alumno['direccion']['calle'])\n",
        "print(alumno['telefonos'])\n",
        "print(alumno)\n",
        "alumno ['facultad'] = \"Hola Mundo\"\n",
        "print(alumno)"
      ],
      "metadata": {
        "colab": {
          "base_uri": "https://localhost:8080/"
        },
        "id": "US5iV_Sy9AgD",
        "outputId": "91a171f8-5974-41b7-a2db-b80bc5db7923"
      },
      "execution_count": 5,
      "outputs": [
        {
          "output_type": "stream",
          "name": "stdout",
          "text": [
            "rancho seco\n",
            "['43543563465', '3456464365']\n",
            "{'numero_cuenta': 1232322, 'carrera': 'ICO', 'direccion': {'calle': 'rancho seco', 'numero': 23}, 'telefonos': ['43543563465', '3456464365']}\n",
            "{'numero_cuenta': 1232322, 'carrera': 'ICO', 'direccion': {'calle': 'rancho seco', 'numero': 23}, 'telefonos': ['43543563465', '3456464365'], 'facultad': 'Hola Mundo'}\n"
          ]
        }
      ]
    },
    {
      "cell_type": "code",
      "source": [
        "#if\n",
        "edad = 21\n",
        "if edad >= 18:\n",
        "    print(\"Eres mayor de edad.\")\n",
        "    print(\"Otra cosa.\")\n",
        "    print(\"Algo mas.\")\n",
        "\n",
        "    # if-esle\n",
        "\n",
        "edad = 15\n",
        "if edad >= 18:\n",
        "    print(\"Eres mayor de edad.\")\n",
        "else:\n",
        "    print(\"Eres menor de edad.\")\n"
      ],
      "metadata": {
        "colab": {
          "base_uri": "https://localhost:8080/"
        },
        "id": "5azJcFeN_QFn",
        "outputId": "30600ab2-70cb-4296-e15d-6b9830c27fb3"
      },
      "execution_count": 10,
      "outputs": [
        {
          "output_type": "stream",
          "name": "stdout",
          "text": [
            "Eres mayor de edad.\n",
            "Otra cosa.\n",
            "Algo mas.\n",
            "Eres menor de edad.\n"
          ]
        }
      ]
    },
    {
      "cell_type": "code",
      "source": [
        "# if- elif - else\n",
        "edad = 20\n",
        "if edad < 13:\n",
        "    print(\"Eres un niño.\")\n",
        "elif edad < 18:\n",
        "    print(\"Eres un adolescente.\")\n",
        "else:\n",
        "    print(\"Eres un adulto.\")\n",
        ""
      ],
      "metadata": {
        "colab": {
          "base_uri": "https://localhost:8080/"
        },
        "id": "1r4LuWSY_1Ll",
        "outputId": "a74a1331-49e0-4272-d568-11ba898dc545"
      },
      "execution_count": 11,
      "outputs": [
        {
          "output_type": "stream",
          "name": "stdout",
          "text": [
            "Eres un adulto.\n"
          ]
        }
      ]
    },
    {
      "cell_type": "code",
      "source": [
        "# if-elif-elif\n",
        "edad = 20\n",
        "if edad < 13:\n",
        "    print(\"Eres un niño.\")\n",
        "elif edad < 18:\n",
        "    print(\"Eres un adolescente.\")\n",
        "elif edad < 30:\n",
        "    print(\"Eres un joven adulto.\")\n",
        ""
      ],
      "metadata": {
        "colab": {
          "base_uri": "https://localhost:8080/"
        },
        "id": "Xif7ljseAgUQ",
        "outputId": "0e43594a-8442-4a92-d337-ccc191936290"
      },
      "execution_count": 12,
      "outputs": [
        {
          "output_type": "stream",
          "name": "stdout",
          "text": [
            "Eres un joven adulto.\n"
          ]
        }
      ]
    },
    {
      "cell_type": "code",
      "source": [
        "# For   for(int = 1 ; i<10 ; i++)\n",
        "\n",
        "for i in range(1, 10, 1):\n",
        "    print(i)"
      ],
      "metadata": {
        "colab": {
          "base_uri": "https://localhost:8080/"
        },
        "id": "3xAAA6L8BbAG",
        "outputId": "6328427c-5a62-4a90-9a5b-20c0bf781a79"
      },
      "execution_count": 13,
      "outputs": [
        {
          "output_type": "stream",
          "name": "stdout",
          "text": [
            "1\n",
            "2\n",
            "3\n",
            "4\n",
            "5\n",
            "6\n",
            "7\n",
            "8\n",
            "9\n"
          ]
        }
      ]
    },
    {
      "cell_type": "code",
      "source": [
        "\n",
        "frutas = ['piña', 'pera', 'manzana', 'fresa', 'aguacate']\n",
        "for numero in frutas:\n",
        "    print(numero)"
      ],
      "metadata": {
        "colab": {
          "base_uri": "https://localhost:8080/"
        },
        "id": "G3Tnliu9BjK3",
        "outputId": "9f40f55f-22eb-423d-cb5e-5c7f7abe6aea"
      },
      "execution_count": 14,
      "outputs": [
        {
          "output_type": "stream",
          "name": "stdout",
          "text": [
            "piña\n",
            "pera\n",
            "manzana\n",
            "fresa\n",
            "aguacate\n"
          ]
        }
      ]
    },
    {
      "cell_type": "code",
      "source": [
        "\n",
        "for numero in frutas:\n",
        "    if numero == \"manzana\":\n",
        "        break   # ó continue\n",
        "    print(numero)  # imprime la fruta\n",
        ""
      ],
      "metadata": {
        "colab": {
          "base_uri": "https://localhost:8080/"
        },
        "id": "-8V77_EQBnkp",
        "outputId": "0eb72f62-ef83-4e06-c4fd-06f0048db98e"
      },
      "execution_count": 15,
      "outputs": [
        {
          "output_type": "stream",
          "name": "stdout",
          "text": [
            "piña\n",
            "pera\n"
          ]
        }
      ]
    }
  ]
}