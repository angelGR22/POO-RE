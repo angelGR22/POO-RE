{
  "nbformat": 4,
  "nbformat_minor": 0,
  "metadata": {
    "colab": {
      "provenance": [],
      "authorship_tag": "ABX9TyNW4uZeFX2owqZm41mdNoJG",
      "include_colab_link": true
    },
    "kernelspec": {
      "name": "python3",
      "display_name": "Python 3"
    },
    "language_info": {
      "name": "python"
    }
  },
  "cells": [
    {
      "cell_type": "markdown",
      "metadata": {
        "id": "view-in-github",
        "colab_type": "text"
      },
      "source": [
        "<a href=\"https://colab.research.google.com/github/angelGR22/POO-RE/blob/main/Copia_de_lunesPOO.ipynb\" target=\"_parent\"><img src=\"https://colab.research.google.com/assets/colab-badge.svg\" alt=\"Open In Colab\"/></a>"
      ]
    },
    {
      "cell_type": "code",
      "execution_count": null,
      "metadata": {
        "colab": {
          "base_uri": "https://localhost:8080/"
        },
        "id": "vHzCulVl3-Ro",
        "outputId": "90517143-5246-46ff-f8d4-c7a30261ac0f"
      },
      "outputs": [
        {
          "output_type": "stream",
          "name": "stdout",
          "text": [
            "Hola Mundo\n"
          ]
        }
      ],
      "source": [
        "#Esto es un comentario\n",
        "print(\"Hola Mundo\") # Esto imprime \"Hola Mundo\""
      ]
    },
    {
      "cell_type": "code",
      "source": [
        "!ls -a\n"
      ],
      "metadata": {
        "colab": {
          "base_uri": "https://localhost:8080/"
        },
        "id": "1l9xxT046ak3",
        "outputId": "0cd4dbcf-d1b6-4b5e-de06-773c6a1ba943"
      },
      "execution_count": null,
      "outputs": [
        {
          "output_type": "stream",
          "name": "stdout",
          "text": [
            ".  ..  .config\tsample_data\n"
          ]
        }
      ]
    },
    {
      "cell_type": "code",
      "source": [
        "\"\"\"\n",
        "este es\n",
        "Naciones Unidas \n",
        "comentario de\n",
        "línea múltiple\n",
        "\"\"\""
      ],
      "metadata": {
        "colab": {
          "base_uri": "https://localhost:8080/",
          "height": 35
        },
        "id": "qgQnWJ-_6sqb",
        "outputId": "b4ae7414-05ca-4d51-9c4b-702f7ece229f"
      },
      "execution_count": null,
      "outputs": [
        {
          "output_type": "execute_result",
          "data": {
            "text/plain": [
              "'\\neste es\\nNaciones Unidas \\ncomentario de\\nlínea múltiple\\n'"
            ],
            "application/vnd.google.colaboratory.intrinsic+json": {
              "type": "string"
            }
          },
          "metadata": {},
          "execution_count": 3
        }
      ]
    },
    {
      "cell_type": "code",
      "source": [
        "print(\"Hola\", \"Mundo\")\n",
        " \n",
        "print(\"Hola\" + \"Mundo\")\n",
        " \n",
        "print(\"Hola\", \"Mundo\", sep=\"-\") # Imprime: Hola-Mundo\n",
        " \n",
        "print(\"Hola\", end=\"\")\n",
        "print(\"Mundo\") # Imprime: HolaMundo"
      ],
      "metadata": {
        "colab": {
          "base_uri": "https://localhost:8080/"
        },
        "id": "e8jIlSIb65Qc",
        "outputId": "3d95531f-e58a-4d6c-da5a-8819e0a94c46"
      },
      "execution_count": null,
      "outputs": [
        {
          "output_type": "stream",
          "name": "stdout",
          "text": [
            "Hola Mundo\n",
            "HolaMundo\n",
            "Hola-Mundo\n",
            "HolaMundo\n"
          ]
        }
      ]
    },
    {
      "cell_type": "code",
      "source": [
        "nombre = \"Angel\"\n",
        "carrera = \"ICO, la mejor\"\n",
        "print(\"Mi nombre es {} y estudio {} en la FES Aragón\".format(nombre, carrera))\n",
        "print(f\"Mi nombre es {nombre} y estudio {carrera} en la FES Aragón\")\n",
        " "
      ],
      "metadata": {
        "colab": {
          "base_uri": "https://localhost:8080/"
        },
        "id": "s4hXeohq7oPT",
        "outputId": "3d5f87f1-7d73-4205-f0af-fa48795aabdd"
      },
      "execution_count": null,
      "outputs": [
        {
          "output_type": "stream",
          "name": "stdout",
          "text": [
            "Mi nombre es Angel y estudio ICO, la mejor en la FES Aragón\n",
            "Mi nombre es Angel y estudio ICO, la mejor en la FES Aragón\n"
          ]
        }
      ]
    },
    {
      "cell_type": "code",
      "source": [
        "# Operadores aritmeticos\n",
        "suma = 5 + 3 # 8\n",
        "resto = 5 - 3 # 2\n",
        "producto = 5 * 3 # 15\n",
        "división = 5 / 3 # 1.66667\n",
        "división2 = 5 // 3 # 1\n",
        "módulo = 5 % 3 # 2\n",
        "potencia = 5 ** 3 # 125"
      ],
      "metadata": {
        "id": "Wza3dpYp_Fl8"
      },
      "execution_count": null,
      "outputs": []
    },
    {
      "cell_type": "code",
      "source": [
        "suma\n",
        "resto\n",
        "producto\n",
        "división\n",
        "división2\n",
        "módulo \n",
        "potencia"
      ],
      "metadata": {
        "colab": {
          "base_uri": "https://localhost:8080/"
        },
        "id": "YZCR6Mro_Kv-",
        "outputId": "1611381b-13e3-4825-956f-57b6ce508f81"
      },
      "execution_count": null,
      "outputs": [
        {
          "output_type": "execute_result",
          "data": {
            "text/plain": [
              "125"
            ]
          },
          "metadata": {},
          "execution_count": 10
        }
      ]
    },
    {
      "cell_type": "code",
      "source": [
        "# Operadores de comparación\n",
        "igual = 5 == 3 # Falso\n",
        "diferente = 5 != 3 # Verdadero\n",
        "mayor_que = 5 > 3 # Verdadero\n",
        "menor_que = 5 < 3 # Falso\n",
        "mayor_o_igual_que = 5 >= 3 # Verdadero\n",
        "menor_o_igual_que = 5 <= 3 # Falso\n",
        " "
      ],
      "metadata": {
        "id": "H8PsC4S3_mLC"
      },
      "execution_count": null,
      "outputs": []
    },
    {
      "cell_type": "code",
      "source": [
        "igual\n"
      ],
      "metadata": {
        "colab": {
          "base_uri": "https://localhost:8080/"
        },
        "id": "wfB8WHnJ_ot_",
        "outputId": "c8970413-1c46-4eee-81c0-d2b7fdd617e4"
      },
      "execution_count": null,
      "outputs": [
        {
          "output_type": "execute_result",
          "data": {
            "text/plain": [
              "False"
            ]
          },
          "metadata": {},
          "execution_count": 13
        }
      ]
    },
    {
      "cell_type": "code",
      "source": [
        "# Operadores lógicos\n",
        "y = True and False # Falso\n",
        "o = True or False # Verdadero\n",
        "no = not True # falso\n",
        " "
      ],
      "metadata": {
        "id": "LhxGXa_i_7EX"
      },
      "execution_count": null,
      "outputs": []
    },
    {
      "cell_type": "code",
      "source": [
        "True \n"
      ],
      "metadata": {
        "colab": {
          "base_uri": "https://localhost:8080/"
        },
        "id": "wCzCq_BZAdG2",
        "outputId": "900837c2-3aea-45a0-ee87-9cfac1c113fa"
      },
      "execution_count": null,
      "outputs": [
        {
          "output_type": "execute_result",
          "data": {
            "text/plain": [
              "True"
            ]
          },
          "metadata": {},
          "execution_count": 17
        }
      ]
    },
    {
      "cell_type": "code",
      "source": [
        "saludo = \"Hola Mundo\"\n",
        "cita = 'Los alumnos de ICO dicen: \"Hola Mundo\"'\n",
        "parrafo = \"\"\"Esto es un párrafo\n",
        "que abarca varias\n",
        "líneas\"\"\"\n"
      ],
      "metadata": {
        "id": "-fcMrPufA42L"
      },
      "execution_count": null,
      "outputs": []
    },
    {
      "cell_type": "code",
      "source": [
        "parrafo"
      ],
      "metadata": {
        "colab": {
          "base_uri": "https://localhost:8080/",
          "height": 35
        },
        "id": "28kwkTAhA7E6",
        "outputId": "b5c9ef84-c636-4c97-f4e6-d69ac9e902d5"
      },
      "execution_count": null,
      "outputs": [
        {
          "output_type": "execute_result",
          "data": {
            "text/plain": [
              "'Esto es un párrafo\\nque abarca varias\\nlíneas'"
            ],
            "application/vnd.google.colaboratory.intrinsic+json": {
              "type": "string"
            }
          },
          "metadata": {},
          "execution_count": 19
        }
      ]
    },
    {
      "cell_type": "code",
      "source": [
        "def fn_uno():\n",
        "    print(\"Hola jsjsjsjs\")\n",
        " \n",
        "a, b, c = 10, \"Hola\", fn_uno\n",
        "print(a)\n",
        "print(b)\n",
        "print(c)\n",
        "c.__call__()\n",
        "\n"
      ],
      "metadata": {
        "colab": {
          "base_uri": "https://localhost:8080/"
        },
        "id": "vq_EDDpVB6B4",
        "outputId": "38229e51-59db-4727-8988-b3a0951620d5"
      },
      "execution_count": null,
      "outputs": [
        {
          "output_type": "stream",
          "name": "stdout",
          "text": [
            "10\n",
            "Hola\n",
            "<function fn_uno at 0x7f48959fc040>\n",
            "Hola jsjsjsjs\n"
          ]
        }
      ]
    },
    {
      "cell_type": "code",
      "source": [
        "# entrada por teclado\n",
        "nombre = input(\"Por favor, introduce tu nombre: \")\n",
        "print(f\"Hola {nombre}!\")\n"
      ],
      "metadata": {
        "colab": {
          "base_uri": "https://localhost:8080/"
        },
        "id": "k92G5g2UDCVK",
        "outputId": "66c8ef64-a2f3-4965-b875-498b7338d2d9"
      },
      "execution_count": null,
      "outputs": [
        {
          "output_type": "stream",
          "name": "stdout",
          "text": [
            "Por favor, introduce tu nombre: angel\n",
            "Hola angel!\n"
          ]
        }
      ]
    },
    {
      "cell_type": "code",
      "source": [
        "edad = int(input(\"Introduce tu edad:\"))\n",
        "print(f\"{nombre} tiene {edad} años\")\n"
      ],
      "metadata": {
        "colab": {
          "base_uri": "https://localhost:8080/"
        },
        "id": "y_vtTEWmDWS0",
        "outputId": "d0510c48-5676-4f58-8583-6f705ae0c7b8"
      },
      "execution_count": null,
      "outputs": [
        {
          "output_type": "stream",
          "name": "stdout",
          "text": [
            "Introduce tu edad:23\n",
            "angel tiene 23 años\n"
          ]
        }
      ]
    },
    {
      "cell_type": "code",
      "source": [
        "frutas = ['limon', 'aguacate', 'fresa']\n",
        "print (frutas[2])\n",
        "print (frutas[-1])"
      ],
      "metadata": {
        "colab": {
          "base_uri": "https://localhost:8080/"
        },
        "id": "8A7XWBr6E9Q3",
        "outputId": "f2453cc8-5f20-4f3c-f00c-ac1aeb85b393"
      },
      "execution_count": null,
      "outputs": [
        {
          "output_type": "stream",
          "name": "stdout",
          "text": [
            "fresa\n",
            "fresa\n"
          ]
        }
      ]
    },
    {
      "cell_type": "code",
      "source": [
        "cosas = ['limon', 10 , 3.1416, True, [1,2,3,4,5,6]]\n",
        "print (cosas)\n",
        "[]"
      ],
      "metadata": {
        "colab": {
          "base_uri": "https://localhost:8080/"
        },
        "id": "ZyvMhHg_FgQE",
        "outputId": "78449014-2f72-4c66-c34c-09e76cab4213"
      },
      "execution_count": null,
      "outputs": [
        {
          "output_type": "stream",
          "name": "stdout",
          "text": [
            "['limon', 10, 3.1416, True, [1, 2, 3, 4, 5, 6]]\n"
          ]
        }
      ]
    },
    {
      "cell_type": "markdown",
      "source": [
        "# Slicing en python \n",
        "[ inicio : stop : step]\n",
        "es la posibilidad de obtener rebanadas a partir de un tipo de datos lista o tupla, en general de un iterable. Un tipo de dato String es un iterable.\n",
        "\n",
        "por defecto:\n",
        "inicio = 0\n",
        "stop es igual al tamaño de la variable \n",
        "step = 1\n"
      ],
      "metadata": {
        "id": "ZbD8peivGBKe"
      }
    },
    {
      "cell_type": "code",
      "source": [
        "ejemplo = [1,2,3,4,5,6,  'a' , 'b','c','d','e']\n",
        "print(ejemplo)"
      ],
      "metadata": {
        "colab": {
          "base_uri": "https://localhost:8080/"
        },
        "id": "cH_sDYnVH3JT",
        "outputId": "4d70715e-63ac-4fda-89c8-2ff8885787cf"
      },
      "execution_count": null,
      "outputs": [
        {
          "output_type": "stream",
          "name": "stdout",
          "text": [
            "[1, 2, 3, 4, 5, 6, 'a', 'b', 'c', 'd', 'e']\n"
          ]
        }
      ]
    },
    {
      "cell_type": "code",
      "source": [
        "rebanada = ejemplo[6:9:1]\n",
        "print(rebanada)\n"
      ],
      "metadata": {
        "colab": {
          "base_uri": "https://localhost:8080/"
        },
        "id": "FMRWtcCAIUsl",
        "outputId": "cc5aff1d-1069-425a-912d-35deb12d20f0"
      },
      "execution_count": null,
      "outputs": [
        {
          "output_type": "stream",
          "name": "stdout",
          "text": [
            "['a', 'b', 'c']\n"
          ]
        }
      ]
    },
    {
      "cell_type": "code",
      "source": [
        "frutas_dos = ('aguacate', 'limon', 'naranja')\n",
        "print(frutas)\n",
        "print(frutas_dos)\n",
        "\n",
        "print(frutas[1])\n",
        "print(frutas_dos[1])\n",
        "\n",
        "print(frutas_dos[1:2:1])\n"
      ],
      "metadata": {
        "colab": {
          "base_uri": "https://localhost:8080/"
        },
        "id": "ILZ4o_XPIqIW",
        "outputId": "98341d8f-2b35-4bfe-ce8b-ebdd6327ec2a"
      },
      "execution_count": null,
      "outputs": [
        {
          "output_type": "stream",
          "name": "stdout",
          "text": [
            "['limon', 'aguacate', 'fresa']\n",
            "('aguacate', 'limon', 'naranja')\n",
            "aguacate\n",
            "limon\n",
            "('limon',)\n"
          ]
        }
      ]
    },
    {
      "cell_type": "code",
      "source": [
        " \n",
        "mensaje = \"Hola Mundo\"  # String\n",
        "edad = 20               # Integer\n",
        "pi = 3.14159            # Float\n",
        "es_mayor = True         # Boolean\n",
        "imaginario = 3 + 4j     # Imaginario\n",
        " "
      ],
      "metadata": {
        "id": "5TlM-11CJz8q"
      },
      "execution_count": null,
      "outputs": []
    },
    {
      "cell_type": "code",
      "source": [
        "mensaje\n"
      ],
      "metadata": {
        "colab": {
          "base_uri": "https://localhost:8080/",
          "height": 35
        },
        "id": "Q3nSQ0QwJ7AV",
        "outputId": "fff30e66-e67e-42c9-e02c-56dbfcc88f7a"
      },
      "execution_count": null,
      "outputs": [
        {
          "output_type": "execute_result",
          "data": {
            "text/plain": [
              "'Hola Mundo'"
            ],
            "application/vnd.google.colaboratory.intrinsic+json": {
              "type": "string"
            }
          },
          "metadata": {},
          "execution_count": 35
        }
      ]
    },
    {
      "cell_type": "code",
      "source": [
        "#if\n",
        "edad = 20\n",
        "if edad >= 18:\n",
        "    print(\"Eres mayor de edad.\")\n",
        "    \n"
      ],
      "metadata": {
        "colab": {
          "base_uri": "https://localhost:8080/"
        },
        "id": "8qxb1GaoJ_Tw",
        "outputId": "cff6779f-6286-4d24-aeec-104116a400e4"
      },
      "execution_count": null,
      "outputs": [
        {
          "output_type": "stream",
          "name": "stdout",
          "text": [
            "Eres mayor de edad.\n"
          ]
        }
      ]
    },
    {
      "cell_type": "markdown",
      "source": [
        "# diccionarios teoria \n",
        "1. Es un conjunto de pares llave valor \n",
        "2. Agrupados por ':'\n",
        "3. La llave siempre es de tipo String \n",
        "4. El valor puede ser de cualquier tipo \n",
        "5. El selector de la forma ['llave']\n",
        "6. Se declara entre caracteres '{'y '}'\n",
        "7. Mutable\n",
        "8. Los pares estan separados por comas ','"
      ],
      "metadata": {
        "id": "4VDcBlqwKByY"
      }
    },
    {
      "cell_type": "code",
      "source": [
        "alumno = {'numero_cuenta' : 1232322 , 'carrera' : 'ICO' ,\n",
        "            'direccion' : {'calle' : 'rancho seco', 'numero' : 23}\n",
        "          }\n",
        "       "
      ],
      "metadata": {
        "id": "unYDVFy1LeYe"
      },
      "execution_count": null,
      "outputs": []
    },
    {
      "cell_type": "code",
      "source": [
        "print(alumno['direccion']['numero'])"
      ],
      "metadata": {
        "colab": {
          "base_uri": "https://localhost:8080/"
        },
        "id": "j0Roz2pyL7UU",
        "outputId": "e41e9001-0c33-4b08-9e3a-77205a69f5f7"
      },
      "execution_count": null,
      "outputs": [
        {
          "output_type": "stream",
          "name": "stdout",
          "text": [
            "23\n"
          ]
        }
      ]
    },
    {
      "cell_type": "code",
      "source": [
        "print(alumno['direccion']['calle'][3:6:1])"
      ],
      "metadata": {
        "colab": {
          "base_uri": "https://localhost:8080/"
        },
        "id": "tk6DSEo0L_U7",
        "outputId": "9bae73c6-14be-4fd8-c6aa-de6d2de08332"
      },
      "execution_count": null,
      "outputs": [
        {
          "output_type": "stream",
          "name": "stdout",
          "text": [
            "cho\n"
          ]
        }
      ]
    }
  ]
}